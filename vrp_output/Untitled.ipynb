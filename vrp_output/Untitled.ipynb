{
 "cells": [
  {
   "cell_type": "code",
   "execution_count": 36,
   "metadata": {},
   "outputs": [],
   "source": [
    "from xml.dom.minidom import parse\n",
    "import xml.dom.minidom\n",
    "import re"
   ]
  },
  {
   "cell_type": "code",
   "execution_count": 30,
   "metadata": {},
   "outputs": [],
   "source": [
    "# Open XML document using minidom parser\n",
    "DOMTree = xml.dom.minidom.parse(\"solution.xml\")\n",
    "solutions = DOMTree.documentElement\n"
   ]
  },
  {
   "cell_type": "code",
   "execution_count": 39,
   "metadata": {},
   "outputs": [
    {
     "name": "stdout",
     "output_type": "stream",
     "text": [
      "*****Route*****\n",
      "vehicle_1\n",
      "1\n",
      "dd\n",
      "2\n",
      "12\n",
      "3\n",
      "5\n",
      "4\n",
      "7\n",
      "6\n",
      "*****Route*****\n",
      "vehicle_4\n",
      "4\n",
      "dd\n",
      "8\n",
      "9\n",
      "11\n",
      "10\n",
      "13\n"
     ]
    }
   ],
   "source": [
    "s = solutions.getElementsByTagName(\"solution\")[0]\n",
    "\n",
    "routes = s.getElementsByTagName(\"route\")\n",
    "\n",
    "p = re.compile('\\d+$')\n",
    "\n",
    "for route in routes:\n",
    "    print (\"*****Route*****\")\n",
    "    v = route.getElementsByTagName('vehicleId')[0]\n",
    "    print(v.childNodes[0].data)\n",
    "    blubb = p.search(v.childNodes[0].data)[0]\n",
    "    print (blubb)\n",
    "    print(\"dd\")\n",
    "    actions = route.getElementsByTagName('act')\n",
    "    for a in actions:\n",
    "        stop_id = a.getElementsByTagName('serviceId')[0]\n",
    "        print(stop_id.childNodes[0].data)\n",
    "        \n",
    "    \n",
    "    \n",
    "   "
   ]
  },
  {
   "cell_type": "code",
   "execution_count": null,
   "metadata": {},
   "outputs": [],
   "source": []
  }
 ],
 "metadata": {
  "kernelspec": {
   "display_name": "Python 3",
   "language": "python",
   "name": "python3"
  },
  "language_info": {
   "codemirror_mode": {
    "name": "ipython",
    "version": 3
   },
   "file_extension": ".py",
   "mimetype": "text/x-python",
   "name": "python",
   "nbconvert_exporter": "python",
   "pygments_lexer": "ipython3",
   "version": "3.6.3"
  }
 },
 "nbformat": 4,
 "nbformat_minor": 2
}
